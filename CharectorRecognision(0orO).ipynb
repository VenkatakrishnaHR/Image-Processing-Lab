{
  "nbformat": 4,
  "nbformat_minor": 0,
  "metadata": {
    "colab": {
      "name": "CharectorRecognision(0orO).ipynb",
      "provenance": [],
      "authorship_tag": "ABX9TyNy7X8wy4zBQ7paJvIYIxW7",
      "include_colab_link": true
    },
    "kernelspec": {
      "name": "python3",
      "display_name": "Python 3"
    },
    "language_info": {
      "name": "python"
    }
  },
  "cells": [
    {
      "cell_type": "markdown",
      "metadata": {
        "id": "view-in-github",
        "colab_type": "text"
      },
      "source": [
        "<a href=\"https://colab.research.google.com/github/VenkatakrishnaHR/Image-Processing-Lab/blob/main/CharectorRecognision(0orO).ipynb\" target=\"_parent\"><img src=\"https://colab.research.google.com/assets/colab-badge.svg\" alt=\"Open In Colab\"/></a>"
      ]
    },
    {
      "cell_type": "code",
      "execution_count": 1,
      "metadata": {
        "id": "0vsV0zS4Sasl"
      },
      "outputs": [],
      "source": [
        "import cv2 as cv\n",
        "import cv2\n",
        "import matplotlib.pyplot as plt\n",
        "from google.colab.patches import cv2_imshow"
      ]
    },
    {
      "cell_type": "code",
      "source": [
        "img = cv.imread( \"./imgOor0.jpg\", 0 )\n",
        "# img[:] = 255 - img[:]\n",
        "cv2_imshow( img )"
      ],
      "metadata": {
        "colab": {
          "base_uri": "https://localhost:8080/",
          "height": 49
        },
        "id": "P7vn6LXKZmPn",
        "outputId": "1cadab7f-99b5-48a2-c8a6-a239b0fdf37a"
      },
      "execution_count": 2,
      "outputs": [
        {
          "output_type": "display_data",
          "data": {
            "image/png": "[encoded data removed]",
            "text/plain": [
              "<PIL.Image.Image image mode=L size=64x32 at 0x7F09BD7B59D0>"
            ]
          },
          "metadata": {}
        }
      ]
    },
    {
      "cell_type": "code",
      "source": [
        "# img = cv2.imread('/content/w6al2.jpg', 0)\n",
        "cv2.threshold(img,0,255,cv2.THRESH_BINARY+cv2.THRESH_OTSU,img)\n",
        "\n",
        "image = img\n",
        "contours, hier = cv2.findContours(img, cv2.RETR_EXTERNAL,cv2.CHAIN_APPROX_NONE)\n",
        "contours = sorted(contours, key=lambda ctr: cv2.boundingRect(ctr)[0])\n",
        "# cv2_imshow(img)\n",
        "cv2.waitKey(0)\n",
        "d=0\n",
        "for ctr in contours:\n",
        "    # Get bounding box\n",
        "    x, y, w, h = cv2.boundingRect(ctr)\n",
        "    # Getting ROI\n",
        "    roi = image[y:y+h, x:x+w]\n",
        "    cv2_imshow(roi)\n",
        "    if w == h:\n",
        "      print(\"It is letter o\\n\\n\\n\")\n",
        "    else:\n",
        "      print(\"It is zero\")\n",
        "\n",
        "    # cv2.imwrite('character_%d.png'%d, roi)\n",
        "    # cv2.waitKey(0)\n",
        "    # cv2.destroyAllWindows()\n",
        "    d+=1"
      ],
      "metadata": {
        "colab": {
          "base_uri": "https://localhost:8080/",
          "height": 66
        },
        "id": "nAmVfvCxaWZ1",
        "outputId": "b3244184-c540-4456-cc63-392d96fa7340"
      },
      "execution_count": 4,
      "outputs": [
        {
          "output_type": "display_data",
          "data": {
            "image/png": "[encoded data removed]",
            "text/plain": [
              "<PIL.Image.Image image mode=L size=64x32 at 0x7F09BD76CA10>"
            ]
          },
          "metadata": {}
        },
        {
          "output_type": "stream",
          "name": "stdout",
          "text": [
            "It is zero\n"
          ]
        }
      ]
    },
    {
      "cell_type": "code",
      "source": [
        ""
      ],
      "metadata": {
        "id": "McRBUMrYqVpM"
      },
      "execution_count": null,
      "outputs": []
    }
  ]
}